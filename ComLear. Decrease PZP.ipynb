{
 "cells": [
  {
   "cell_type": "markdown",
   "metadata": {},
   "source": [
    "## Построение дерева для уменьшения ПЗП\n",
    "\n",
    "За основу взят код Жана. Но, немного перерабатываем.\n",
    "В общем-то получилось, однако. При этом - в полномо объёме.\n",
    "\n",
    "Следует научится чить полученный результат"
   ]
  },
  {
   "cell_type": "code",
   "execution_count": 13,
   "metadata": {},
   "outputs": [
    {
     "data": {
      "text/plain": [
       "True"
      ]
     },
     "execution_count": 13,
     "metadata": {},
     "output_type": "execute_result"
    }
   ],
   "source": [
    "#import numpy as numpy\n",
    "import pandas as pandas\n",
    "from sklearn import tree\n",
    "import pydotplus\n",
    "from IPython.display import Image\n",
    "\n",
    "train_dt = pandas.read_csv( 'train.csv', header=0, sep='\\t')\n",
    "features = ['SER_NUM', 'FROM_FIRST_TIME', 'BEFORE_US', 'TOT_MATCHED', 'BEFORE_US_PROMILE']\n",
    "X_train = train_dt[features]\n",
    "y_train = train_dt['MATCHED_FLG']\n",
    "\n",
    "test_dt = pandas.read_csv( 'test.csv', header=0, sep='\\t')\n",
    "X_train = train_dt[features]\n",
    "y_train = train_dt['MATCHED_FLG']\n",
    "\n",
    "\n",
    "clf = tree.DecisionTreeClassifier( min_samples_leaf = 10000 )\n",
    "clf.fit( X_train, y_train )\n",
    "pred = clf.predict_proba( X_train )\n",
    "\n",
    "# dot_data = tree.export_graphviz( clf, out_file= 'test.dot', feature_names= features)\n",
    "dot_data = tree.export_graphviz( clf, out_file= None, feature_names= features)\n",
    "\n",
    "graph = pydotplus.graph_from_dot_data(dot_data)\n",
    "Image(graph.create_png())\n",
    "#graph.write_pdf('test_02.pdf')\n",
    "graph.write_png('test_02.png')\n",
    "\n"
   ]
  },
  {
   "cell_type": "code",
   "execution_count": null,
   "metadata": {},
   "outputs": [],
   "source": [
    "#for i in range(len(pred)) :\n",
    "#    print( u\"%.2f %.2f\" % ( pred[i,0], pred[i,1]) )"
   ]
  }
 ],
 "metadata": {
  "kernelspec": {
   "display_name": "Python 2",
   "language": "python",
   "name": "python2"
  },
  "language_info": {
   "codemirror_mode": {
    "name": "ipython",
    "version": 2
   },
   "file_extension": ".py",
   "mimetype": "text/x-python",
   "name": "python",
   "nbconvert_exporter": "python",
   "pygments_lexer": "ipython2",
   "version": "2.7.13"
  }
 },
 "nbformat": 4,
 "nbformat_minor": 2
}
