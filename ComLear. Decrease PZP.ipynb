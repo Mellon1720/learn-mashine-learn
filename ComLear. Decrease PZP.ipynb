#import numpy as numpy
import pandas as pandas
from sklearn import tree
import pydotplus
from IPython.display import Image

train_dt = pandas.read_csv( 'train.csv', header=0, sep='\t')
features = ['SER_NUM', 'FROM_FIRST_TIME', 'BEFORE_US', 'TOT_MATCHED', 'BEFORE_US_PROMILE']
X_train = train_dt[features]
y_train = train_dt['MATCHED_FLG']

test_dt = pandas.read_csv( 'test.csv', header=0, sep='\t')
X_train = train_dt[features]
y_train = train_dt['MATCHED_FLG']


clf = tree.DecisionTreeClassifier( min_samples_leaf = 10000 )
clf.fit( X_train, y_train )
pred = clf.predict_proba( X_train )

# dot_data = tree.export_graphviz( clf, out_file= 'test.dot', feature_names= features)
dot_data = tree.export_graphviz( clf, out_file= None, feature_names= features)

graph = pydotplus.graph_from_dot_data(dot_data)
Image(graph.create_png())
#graph.write_pdf('test_02.pdf')
graph.write_png('test_02.png')
