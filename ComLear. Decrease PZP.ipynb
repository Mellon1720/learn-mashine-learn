{
 "cells": [
  {
   "cell_type": "markdown",
   "metadata": {},
   "source": [
    "## Построение дерева "
   ]
  },
  {
   "cell_type": "code",
   "execution_count": 8,
   "metadata": {},
   "outputs": [],
   "source": [
    "import pandas as pandas\n",
    "from sklearn import tree\n",
    "import pydotplus\n",
    "from IPython.display import Image\n",
    "\n",
    "train_dt = pandas.read_csv( 'train.csv', header=0, sep='\\t')\n",
    "features = ['SER_NUM', 'FROM_FIRST_TIME', 'BEFORE_US', 'TOT_MATCHED', 'BEFORE_US_PROMILE']\n",
    "X_train = train_dt[features]\n",
    "y_train = train_dt['MATCHED_FLG']\n",
    "\n",
    "test_dt = pandas.read_csv( 'test.csv', header=0, sep='\\t')\n",
    "X_train = train_dt[features]\n",
    "y_train = train_dt['MATCHED_FLG']\n",
    "\n",
    "\n",
    "clf = tree.DecisionTreeClassifier( min_samples_leaf = 5000 )\n",
    "clf.fit( X_train, y_train )\n",
    "pred = clf.predict_proba( X_train )\n",
    "\n",
    "dot_data = tree.export_graphviz( clf, out_file= None, feature_names= features)\n",
    "\n",
    "graph = pydotplus.graph_from_dot_data(dot_data)\n",
    "Image(graph.create_png())\n",
    "graph.write_png('test_02.png')\n",
    "Image('test_02.png')\n",
    "\n"
   ]
  }
 ],
 "metadata": {
  "kernelspec": {
   "display_name": "Python 3",
   "language": "python",
   "name": "python3"
  },
  "language_info": {
   "codemirror_mode": {
    "name": "ipython",
    "version": 3
   },
   "file_extension": ".py",
   "mimetype": "text/x-python",
   "name": "python",
   "nbconvert_exporter": "python",
   "pygments_lexer": "ipython3",
   "version": "3.7.3"
  }
 },
 "nbformat": 4,
 "nbformat_minor": 2
}
